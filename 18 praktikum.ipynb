{
 "cells": [
  {
   "cell_type": "code",
   "execution_count": 11,
   "id": "7b7e368b-cf75-4343-bedc-9f02dbe5248a",
   "metadata": {},
   "outputs": [
    {
     "name": "stdin",
     "output_type": "stream",
     "text": [
      "input:  5\n"
     ]
    },
    {
     "name": "stdout",
     "output_type": "stream",
     "text": [
      "hello world\n"
     ]
    },
    {
     "name": "stdin",
     "output_type": "stream",
     "text": [
      "input:  1\n"
     ]
    },
    {
     "name": "stdout",
     "output_type": "stream",
     "text": [
      "bye\n"
     ]
    }
   ],
   "source": [
    "while True:\n",
    " a = int(input(\"input: \"))\n",
    " if a == 1 :\n",
    "   print(\"bye\")\n",
    "   break\n",
    " else:\n",
    "   print(\"hello world\")"
   ]
  },
  {
   "cell_type": "code",
   "execution_count": 19,
   "id": "2f3003c0-856d-45f7-87fc-702220fd1db3",
   "metadata": {},
   "outputs": [
    {
     "name": "stdin",
     "output_type": "stream",
     "text": [
      "Masukkan kategori huruf (pisahkan dengan koma, atau ketik 'exit' untuk keluar):  C\n"
     ]
    },
    {
     "name": "stdout",
     "output_type": "stream",
     "text": [
      "Rata-rata nilai: 2.00\n"
     ]
    },
    {
     "name": "stdin",
     "output_type": "stream",
     "text": [
      "Masukkan kategori huruf (pisahkan dengan koma, atau ketik 'exit' untuk keluar):  E\n"
     ]
    },
    {
     "name": "stdout",
     "output_type": "stream",
     "text": [
      "Rata-rata nilai: 1.25\n"
     ]
    },
    {
     "name": "stdin",
     "output_type": "stream",
     "text": [
      "Masukkan kategori huruf (pisahkan dengan koma, atau ketik 'exit' untuk keluar):  exit\n"
     ]
    }
   ],
   "source": [
    "def nilai_ke_huruf(huruf):\n",
    "    # Kamus nilai berdasarkan kategori huruf\n",
    "    kamus_nilai = {\n",
    "        'A': 4.00,\n",
    "        'A-': 3.75,\n",
    "        'B+': 3.50,\n",
    "        'B': 3.00,\n",
    "        'B-': 2.75,\n",
    "        'C+': 2.50,\n",
    "        'C': 2.00,\n",
    "        'C-': 1.75,\n",
    "        'D': 1.50,\n",
    "        'E': 1.25\n",
    "    }\n",
    "    \n",
    "    return kamus_nilai.get(huruf)\n",
    "\n",
    "def rata_rata(nilai_huruf):\n",
    "    total_nilai = 0\n",
    "    jumlah_huruf = 0\n",
    "\n",
    "    for huruf in nilai_huruf:\n",
    "        nilai = nilai_ke_huruf(huruf)\n",
    "        if nilai is not None:\n",
    "            total_nilai += nilai\n",
    "            jumlah_huruf += 1\n",
    "        else:\n",
    "            print(f\"Huruf '{huruf}' tidak valid.\")\n",
    "\n",
    "    if jumlah_huruf > 0:\n",
    "        return total_nilai / jumlah_huruf\n",
    "    else:\n",
    "        return 0\n",
    "\n",
    "# Program utama\n",
    "while True:\n",
    "    input_huruf = input(\"Masukkan kategori huruf (pisahkan dengan koma, atau ketik 'exit' untuk keluar): \")\n",
    "    \n",
    "    if input_huruf.lower() == 'exit':\n",
    "        break\n",
    "\n",
    "    # Memisahkan input berdasarkan koma dan menghapus spasi\n",
    "    huruf_list = [huruf.strip() for huruf in input_huruf.split(',')]\n",
    "\n",
    "    rata_rata_nilai = rata_rata(huruf_list)\n",
    "    print(f\"Rata-rata nilai: {rata_rata_nilai:.2f}\")\n"
   ]
  },
  {
   "cell_type": "code",
   "execution_count": null,
   "id": "c9d9d11c-b9e4-4afa-9772-7932410d2d51",
   "metadata": {},
   "outputs": [
    {
     "name": "stdin",
     "output_type": "stream",
     "text": [
      "Masukan Nilai :  A\n"
     ]
    },
    {
     "name": "stdout",
     "output_type": "stream",
     "text": [
      "Nilai = 4.00\n"
     ]
    },
    {
     "name": "stdin",
     "output_type": "stream",
     "text": [
      "Masukan Nilai :  C\n"
     ]
    },
    {
     "name": "stdout",
     "output_type": "stream",
     "text": [
      "Nilai = 2.00\n"
     ]
    },
    {
     "name": "stdin",
     "output_type": "stream",
     "text": [
      "Masukan Nilai :  B\n"
     ]
    },
    {
     "name": "stdout",
     "output_type": "stream",
     "text": [
      "Nilai = 3.00\n"
     ]
    },
    {
     "name": "stdin",
     "output_type": "stream",
     "text": [
      "Masukan Nilai :  E\n"
     ]
    },
    {
     "name": "stdout",
     "output_type": "stream",
     "text": [
      "Nilai = 1.25\n"
     ]
    }
   ],
   "source": [
    "\n",
    "# 'A' == 4.00\n",
    "# 'A-' == 3.75\n",
    "# 'B+' == 3.50\n",
    "# 'B' == 3.00\n",
    "# 'B-' == 2.75\n",
    "# 'C+' == 2.50\n",
    "# 'C' == 2.00\n",
    "# 'C-' == 1.75\n",
    "# 'D' == 1.50\n",
    "# 'E' == 1.25\n",
    "\n",
    "value_num = 0\n",
    "jumlah_rata = 0\n",
    "\n",
    "while True :\n",
    "\n",
    "    nilai = input(\"Masukan Nilai : \")\n",
    "    nilai = nilai.upper()\n",
    "\n",
    "    if(nilai == '') :\n",
    "        print(\"itung dulu ya kaka\")\n",
    "        break\n",
    "    elif(nilai == 'A' ) :\n",
    "        value_num += 4.00\n",
    "        jumlah_rata += 1\n",
    "        print(f\"Nilai = 4.00\")\n",
    "    elif(nilai == 'A-' ) :\n",
    "        value_num += 3.75\n",
    "        jumlah_rata += 1\n",
    "        print(f\"Nilai = 3.75\")\n",
    "    elif(nilai == 'B+' ) :\n",
    "        value_num += 3.50\n",
    "        jumlah_rata += 1\n",
    "        print(f\"Nilai = 3.50\")\n",
    "    elif(nilai == 'B' ) :\n",
    "        value_num += 3.00\n",
    "        jumlah_rata += 1\n",
    "        print(f\"Nilai = 3.00\")\n",
    "    elif(nilai == 'B-' ) :\n",
    "        value_num += 2.75\n",
    "        jumlah_rata += 1\n",
    "        print(f\"Nilai = 2.75\")\n",
    "    elif(nilai == 'C+' ) :\n",
    "        value_num += 2.50\n",
    "        jumlah_rata += 1\n",
    "        print(f\"Nilai = 2.50\")\n",
    "    elif(nilai == 'C' ) :\n",
    "        value_num += 2.00\n",
    "        jumlah_rata += 1\n",
    "        print(f\"Nilai = 2.00\")\n",
    "    elif(nilai == 'C-' ) :\n",
    "        value_num += 1.75\n",
    "        jumlah_rata += 1\n",
    "        print(f\"Nilai = 1.75\")\n",
    "    elif(nilai == 'D' ) :\n",
    "        value_num += 1.50\n",
    "        jumlah_rata += 1\n",
    "        print(f\"Nilai = 1.50\")\n",
    "    elif(nilai == 'E' ) :\n",
    "        value_num += 1.25\n",
    "        jumlah_rata += 1\n",
    "        print(f\"Nilai = 1.25\")\n",
    "    else :\n",
    "        print(\"Nilai yang anda masukan tidak valid,Masukan lagi\")\n",
    "    \n",
    "if value_num == 0 :\n",
    "    print(\"Tidak ada nilai yang dapat dihitung\")\n",
    "    \n",
    "rata_rata = value_num / jumlah_rata\n",
    "print(f\"rata-rata nilai : {rata_rata}\")"
   ]
  },
  {
   "cell_type": "code",
   "execution_count": null,
   "id": "8e8a1043-d351-48c6-9c9f-2b9f8b74882a",
   "metadata": {},
   "outputs": [],
   "source": []
  }
 ],
 "metadata": {
  "kernelspec": {
   "display_name": "Python 3 (ipykernel)",
   "language": "python",
   "name": "python3"
  },
  "language_info": {
   "codemirror_mode": {
    "name": "ipython",
    "version": 3
   },
   "file_extension": ".py",
   "mimetype": "text/x-python",
   "name": "python",
   "nbconvert_exporter": "python",
   "pygments_lexer": "ipython3",
   "version": "3.12.4"
  }
 },
 "nbformat": 4,
 "nbformat_minor": 5
}
