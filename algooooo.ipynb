{
 "cells": [
  {
   "cell_type": "code",
   "execution_count": null,
   "id": "2dc3344a-d341-4ab0-b7c6-303f2f6d6f9b",
   "metadata": {},
   "outputs": [
    {
     "name": "stdin",
     "output_type": "stream",
     "text": [
      "Input Age:  10\n"
     ]
    },
    {
     "name": "stdout",
     "output_type": "stream",
     "text": [
      "Price $14.00\n",
      "total payment =  14.0\n"
     ]
    }
   ],
   "source": [
    "n = 0\n",
    "money = 0\n",
    "people = 0\n",
    "\n",
    "while (n != ''):\n",
    "    n = str(input(\"Input Age: \"))\n",
    "    people += 1\n",
    "    if (n == str('')):\n",
    "        break;\n",
    "    else:\n",
    "        \n",
    "        if (int(n) <= 2):\n",
    "            print('FREE')\n",
    "            money += 0\n",
    "            print(\"total payment = \", money)\n",
    "        elif (3 <= int(n) <= 12):\n",
    "            print(\"Price $14.00\")\n",
    "            money += 14.00\n",
    "            print(\"total payment = \", money)\n",
    "        elif (150 >= int(n) >= 65):\n",
    "            print('Price $18.00')\n",
    "            money += 18.00\n",
    "            print(\"total payment = \", money)\n",
    "        elif (13 <= int(n) <= 64):\n",
    "            print('Price $23.00')\n",
    "            money += 23.00\n",
    "            print(\"total payment = \", money)\n",
    "        else:\n",
    "            people -= 1\n",
    "            print('INVALID')\n",
    "            \n",
    "if(people == 1):\n",
    "    print(\" \")\n",
    "else:\n",
    "    pay = float(input(\"Payment = \"))\n",
    "    chance = pay - money\n",
    "    print('Change = ', chance)"
   ]
  },
  {
   "cell_type": "code",
   "execution_count": null,
   "id": "c3a541fb-9516-4fbb-97e8-7290fd0ab93b",
   "metadata": {},
   "outputs": [],
   "source": []
  }
 ],
 "metadata": {
  "kernelspec": {
   "display_name": "Python 3 (ipykernel)",
   "language": "python",
   "name": "python3"
  },
  "language_info": {
   "codemirror_mode": {
    "name": "ipython",
    "version": 3
   },
   "file_extension": ".py",
   "mimetype": "text/x-python",
   "name": "python",
   "nbconvert_exporter": "python",
   "pygments_lexer": "ipython3",
   "version": "3.12.4"
  }
 },
 "nbformat": 4,
 "nbformat_minor": 5
}
